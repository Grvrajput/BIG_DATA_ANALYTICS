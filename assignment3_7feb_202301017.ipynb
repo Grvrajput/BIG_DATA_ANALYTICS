{
  "nbformat": 4,
  "nbformat_minor": 0,
  "metadata": {
    "colab": {
      "provenance": [],
      "authorship_tag": "ABX9TyP1S+ly35BoICVMgHsjWng3",
      "include_colab_link": true
    },
    "kernelspec": {
      "name": "python3",
      "display_name": "Python 3"
    },
    "language_info": {
      "name": "python"
    }
  },
  "cells": [
    {
      "cell_type": "markdown",
      "metadata": {
        "id": "view-in-github",
        "colab_type": "text"
      },
      "source": [
        "<a href=\"https://colab.research.google.com/github/Grvrajput/BIG_DATA_ANALYTICS/blob/main/assignment3_7feb_202301017.ipynb\" target=\"_parent\"><img src=\"https://colab.research.google.com/assets/colab-badge.svg\" alt=\"Open In Colab\"/></a>"
      ]
    },
    {
      "cell_type": "code",
      "execution_count": 21,
      "metadata": {
        "colab": {
          "base_uri": "https://localhost:8080/"
        },
        "id": "_enIn9u-QD9I",
        "outputId": "d0ba30e3-ab14-46e5-daaf-9172a4897a0b"
      },
      "outputs": [
        {
          "output_type": "stream",
          "name": "stdout",
          "text": [
            "     Refund Marital Status Taxable Income Cheat\n",
            "S.No                                           \n",
            "1       Yes         Single           125k    No\n",
            "2        No        Married           100k   Yes\n",
            "3        No         Single            70k    No\n",
            "4       Yes        Married           120k   Yes\n",
            "5        No       Divorced           220k    No\n",
            "6       Yes        Married           339k   Yes\n",
            "7       Yes         Single           123k    No\n",
            "8        No        Married            85k    No\n",
            "9       Yes       Divorced           854k    No\n"
          ]
        }
      ],
      "source": [
        "#Q.1 Create a dataset as follow in the table\n",
        "import pandas as pd\n",
        "dataset={\n",
        "    \"Refund\": [\"Yes\",\"No\",\"No\",\"Yes\",\"No\",\"Yes\",\"Yes\",\"No\",\"Yes\"],\n",
        "    \"Marital Status\": [\"Single\",\"Married\",\"Single\",\"Married\",\"Divorced\",\"Married\",\"Single\",\"Married\",\"Divorced\"],\n",
        "    \"Taxable Income\": [\"125k\",\"100k\",\"70k\",\"120k\",\"220k\",\"339k\",\"123k\",\"85k\",\"854k\"],\n",
        "    \"Cheat\" : [\"No\",\"Yes\",\"No\",\"Yes\",\"No\",\"Yes\",\"No\",\"No\",\"No\"]\n",
        "}\n",
        "#da = pd.DataFrame(dataset)\n",
        "da=pd.DataFrame(dataset,index= pd.RangeIndex(start=1,stop=10,name=\"S.No\"))\n",
        "print(da)"
      ]
    },
    {
      "cell_type": "code",
      "source": [
        "import pandas as pd\n",
        "dataset={\n",
        "    \"Refund\": [\"Yes\",\"No\",\"No\",\"Yes\",\"No\",\"Yes\",\"Yes\",\"No\",\"Yes\"],\n",
        "    \"Marital Status\": [\"Single\",\"Married\",\"Single\",\"Married\",\"Divorced\",\"Married\",\"Single\",\"Married\",\"Divorced\"],\n",
        "    \"Taxable Income\": [\"125k\",\"100k\",\"70k\",\"120k\",\"220k\",\"339k\",\"123k\",\"85k\",\"854k\"],\n",
        "    \"Cheat\" : [\"No\",\"Yes\",\"No\",\"Yes\",\"No\",\"Yes\",\"No\",\"No\",\"No\"]\n",
        "}\n",
        "da = pd.DataFrame(dataset)\n",
        "#da=pd.DataFrame(dataset,index= pd.RangeIndex(start=1,stop=10,name=\"S.No\"))\n",
        "print(da.loc[0])\n",
        "print(da.loc[4])\n",
        "print(da.loc[7])\n",
        "print(da.loc[8])"
      ],
      "metadata": {
        "colab": {
          "base_uri": "https://localhost:8080/"
        },
        "id": "LHSRRTBMUxdn",
        "outputId": "93cffad8-0ea4-4d6e-aad4-151cf4447cea"
      },
      "execution_count": 29,
      "outputs": [
        {
          "output_type": "stream",
          "name": "stdout",
          "text": [
            "Refund               Yes\n",
            "Marital Status    Single\n",
            "Taxable Income      125k\n",
            "Cheat                 No\n",
            "Name: 0, dtype: object\n",
            "Refund                  No\n",
            "Marital Status    Divorced\n",
            "Taxable Income        220k\n",
            "Cheat                   No\n",
            "Name: 4, dtype: object\n",
            "Refund                 No\n",
            "Marital Status    Married\n",
            "Taxable Income        85k\n",
            "Cheat                  No\n",
            "Name: 7, dtype: object\n",
            "Refund                 Yes\n",
            "Marital Status    Divorced\n",
            "Taxable Income        854k\n",
            "Cheat                   No\n",
            "Name: 8, dtype: object\n"
          ]
        }
      ]
    },
    {
      "cell_type": "code",
      "source": [
        "import pandas as pd\n",
        "url=\"https://media.githubusercontent.com/media/datablist/sample-csv-files/main/files/customers/customers-100.csv\"\n",
        "df = pd.read_csv(url)\n",
        "print(df)"
      ],
      "metadata": {
        "colab": {
          "base_uri": "https://localhost:8080/"
        },
        "id": "oClJRrd1Yiee",
        "outputId": "ae408d1b-5071-43cf-f48b-6820d6f7a94f"
      },
      "execution_count": 27,
      "outputs": [
        {
          "output_type": "stream",
          "name": "stdout",
          "text": [
            "    Index      Customer Id First Name Last Name  \\\n",
            "0       1  DD37Cf93aecA6Dc     Sheryl    Baxter   \n",
            "1       2  1Ef7b82A4CAAD10    Preston    Lozano   \n",
            "2       3  6F94879bDAfE5a6        Roy     Berry   \n",
            "3       4  5Cef8BFA16c5e3c      Linda     Olsen   \n",
            "4       5  053d585Ab6b3159     Joanna    Bender   \n",
            "..    ...              ...        ...       ...   \n",
            "95     96  cb8E23e48d22Eae       Karl     Greer   \n",
            "96     97  CeD220bdAaCfaDf       Lynn  Atkinson   \n",
            "97     98  28CDbC0dFe4b1Db       Fred    Guerra   \n",
            "98     99  c23d1D9EE8DEB0A     Yvonne    Farmer   \n",
            "99    100  2354a0E336A91A1   Clarence    Haynes   \n",
            "\n",
            "                            Company               City  \\\n",
            "0                   Rasmussen Group       East Leonard   \n",
            "1                       Vega-Gentry  East Jimmychester   \n",
            "2                     Murillo-Perry      Isabelborough   \n",
            "3   Dominguez, Mcmillan and Donovan         Bensonview   \n",
            "4          Martin, Lang and Andrade     West Priscilla   \n",
            "..                              ...                ...   \n",
            "95                        Carey LLC       East Richard   \n",
            "96            Ware, Burns and Oneal       New Bradview   \n",
            "97                    Schmitt-Jones         Ortegaland   \n",
            "98               Fitzgerald-Harrell    Lake Elijahview   \n",
            "99               Le, Nash and Cross          Judymouth   \n",
            "\n",
            "                       Country                 Phone 1  \\\n",
            "0                        Chile            229.077.5154   \n",
            "1                     Djibouti              5153435776   \n",
            "2          Antigua and Barbuda         +1-539-402-0259   \n",
            "3           Dominican Republic  001-808-617-6467x12895   \n",
            "4   Slovakia (Slovak Republic)  001-234-203-0635x76146   \n",
            "..                         ...                     ...   \n",
            "95                      Guyana     (188)169-1674x58692   \n",
            "96                   Sri Lanka         +1-846-706-2218   \n",
            "97             Solomon Islands    +1-753-067-8419x7170   \n",
            "98                       Aruba           (530)311-9786   \n",
            "99                    Honduras           (753)813-6941   \n",
            "\n",
            "                   Phone 2                           Email Subscription Date  \\\n",
            "0         397.884.0519x718        zunigavanessa@smith.info        2020-08-24   \n",
            "1         686-620-1820x944                 vmata@colon.com        2021-04-23   \n",
            "2      (496)978-3969x58947             beckycarr@hogan.com        2020-03-25   \n",
            "3          +1-813-324-8756     stanleyblackwell@benson.org        2020-06-02   \n",
            "4    001-199-446-3860x3486         colinalvarado@miles.net        2021-04-17   \n",
            "..                     ...                             ...               ...   \n",
            "95    001-841-293-3519x614                hhart@jensen.com        2022-01-30   \n",
            "96            605.413.3198               vkemp@ferrell.com        2021-07-10   \n",
            "97   +1-632-666-7507x92121                swagner@kane.org        2021-09-18   \n",
            "98  001-869-452-0943x12424  mccarthystephen@horn-green.biz        2021-08-11   \n",
            "99            783.639.1472          colleen91@faulkner.biz        2020-03-11   \n",
            "\n",
            "                              Website  \n",
            "0          http://www.stephenson.com/  \n",
            "1               http://www.hobbs.com/  \n",
            "2            http://www.lawrence.com/  \n",
            "3          http://www.good-lyons.com/  \n",
            "4         https://goodwin-ingram.com/  \n",
            "..                                ...  \n",
            "95            http://hayes-perez.com/  \n",
            "96         https://novak-allison.com/  \n",
            "97              https://www.ross.com/  \n",
            "98               http://watkins.info/  \n",
            "99  http://www.hatfield-saunders.net/  \n",
            "\n",
            "[100 rows x 12 columns]\n"
          ]
        }
      ]
    },
    {
      "cell_type": "code",
      "source": [],
      "metadata": {
        "id": "Ibt4dHynY_Yg"
      },
      "execution_count": null,
      "outputs": []
    }
  ]
}