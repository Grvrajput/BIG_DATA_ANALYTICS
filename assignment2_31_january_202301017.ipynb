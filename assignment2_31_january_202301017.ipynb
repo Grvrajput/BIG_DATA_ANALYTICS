{
  "nbformat": 4,
  "nbformat_minor": 0,
  "metadata": {
    "colab": {
      "provenance": [],
      "authorship_tag": "ABX9TyOoaqcDBbCFyzZh2XBnVBxO",
      "include_colab_link": true
    },
    "kernelspec": {
      "name": "python3",
      "display_name": "Python 3"
    },
    "language_info": {
      "name": "python"
    }
  },
  "cells": [
    {
      "cell_type": "markdown",
      "metadata": {
        "id": "view-in-github",
        "colab_type": "text"
      },
      "source": [
        "<a href=\"https://colab.research.google.com/github/Grvrajput/BIG_DATA_ANALYTICS/blob/main/assignment2_31_january_202301017.ipynb\" target=\"_parent\"><img src=\"https://colab.research.google.com/assets/colab-badge.svg\" alt=\"Open In Colab\"/></a>"
      ]
    },
    {
      "cell_type": "code",
      "execution_count": null,
      "metadata": {
        "colab": {
          "base_uri": "https://localhost:8080/"
        },
        "id": "7IISltSFMMGK",
        "outputId": "ceeb29e9-ebec-4e8c-beed-ecde17e626e2"
      },
      "outputs": [
        {
          "output_type": "stream",
          "name": "stdout",
          "text": [
            "final array [5 4 6 3 2 1]\n"
          ]
        }
      ],
      "source": [
        "#question1:. Reverse the NumPy array:\n",
        "import numpy as np\n",
        "# initialising numpy array\n",
        "array = np.array([1, 2, 3, 6, 4, 5])\n",
        "res = np.flip(array)\n",
        "print(\"final array\", str(res))"
      ]
    },
    {
      "cell_type": "code",
      "source": [
        "#question2:Compare the following numpy arrays:\n",
        "import numpy as np\n",
        "\n",
        "arr1 = np.array([[1, 2], [3, 4]])\n",
        "arr2 = np.array([[1, 2], [3, 4]])\n",
        "compare=arr1==arr2\n",
        "arr=compare.all()\n",
        "print(arr)\n",
        "\n"
      ],
      "metadata": {
        "colab": {
          "base_uri": "https://localhost:8080/"
        },
        "id": "Xyg38CRRRmou",
        "outputId": "e91c9a89-7317-42e5-d902-6427bb92d5fc"
      },
      "execution_count": null,
      "outputs": [
        {
          "output_type": "stream",
          "name": "stdout",
          "text": [
            "True\n"
          ]
        }
      ]
    },
    {
      "cell_type": "code",
      "source": [
        "\n",
        "#question3. Find the most frequent value and their indice(s) in the following arrays:\n",
        "import numpy as np\n",
        "x = np.array([1,2,3,4,5,1,2,1,1,1])\n",
        "y = np.array([1, 1, 1, 2, 3, 4, 2, 4, 3, 3,4,4,4])\n",
        "print(\"Original array:\")\n",
        "print(x)\n",
        "print(y)\n",
        "print(\"Most frequent value in the above array:\")\n",
        "print(np.bincount(x).argmax())\n",
        "print(\"Most frequent value in the above array:\")\n",
        "print(np.bincount(y).argmax())\n",
        "\n"
      ],
      "metadata": {
        "id": "dkvgtEufS3Um"
      },
      "execution_count": null,
      "outputs": []
    },
    {
      "cell_type": "code",
      "source": [
        "#question4:\n",
        "import numpy as np\n",
        "gfg = np.matrix('[4, 1, 9; 12, 3, 1; 4, 5, 6]')\n",
        "sum_all_elements = gfg.sum()\n",
        "sum_row_wise = gfg.sum(axis=1)\n",
        "sum_column_wise = gfg.sum(axis=0)\n",
        "\n",
        "print(\"i. Sum of all elements:\", sum_all_elements)\n",
        "print(\"ii. Sum of all elements row-wise:\", sum_row_wise)\n",
        "print(\"iii. Sum of all elements column-wise:\", sum_column_wise)"
      ],
      "metadata": {
        "colab": {
          "base_uri": "https://localhost:8080/"
        },
        "id": "_FtNP-4GY3uD",
        "outputId": "66e1078b-4304-4c2e-ecc8-90e4174281dc"
      },
      "execution_count": null,
      "outputs": [
        {
          "output_type": "stream",
          "name": "stdout",
          "text": [
            "i. Sum of all elements: 45\n",
            "ii. Sum of all elements row-wise: [[14]\n",
            " [16]\n",
            " [15]]\n",
            "iii. Sum of all elements column-wise: [[20  9 16]]\n"
          ]
        }
      ]
    }
  ]
}